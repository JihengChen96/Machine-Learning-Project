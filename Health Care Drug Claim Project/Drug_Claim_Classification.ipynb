{
 "cells": [
  {
   "cell_type": "markdown",
   "id": "dcc55ba8",
   "metadata": {},
   "source": [
    "## Case Introduction and Objective\n",
    "\n",
    "* Determine a classifying method to detect Oscar members that are not receiving their required medical care as well as to identify Oscar members with highly unusual care patterns based on their dignosis data and prescription drug usage data"
   ]
  },
  {
   "cell_type": "markdown",
   "id": "162271dd",
   "metadata": {},
   "source": [
    "## Three major characterizations:\n",
    "\n",
    "1. 'Received enough medical cares'\n",
    "2. 'Did not receive enough medical cares'\n",
    "3. 'Unusual pattern that requires additional investigation'"
   ]
  },
  {
   "cell_type": "markdown",
   "id": "b6d6d799",
   "metadata": {},
   "source": [
    "## Questions to think about for requirement 1\n",
    "* How to define whether receive enough medical cares?\n",
    "    * given the amount of diag claims, does the member receive enough medications? - not used\n",
    "    * given the categories of diag claims, does the member recieve enough categories of drugs? - used\n",
    "\n",
    "\n",
    "* How to define highly unusual care patterns?\n",
    "    * abnormal amount of diagnosis claims (Outliers) - not used \n",
    "    * abnormal amount of prescriptions (Outliers) - not used\n",
    "    * abnormal amount of combination of diag+drugs (proportion outliers) - used"
   ]
  },
  {
   "cell_type": "markdown",
   "id": "96260091",
   "metadata": {},
   "source": [
    "## Dataset Descriptions and Highlighted Variables\n",
    "* Members' claim lines with diagnosis codes\n",
    "    * member id\n",
    "    * service date\n",
    "    * diag1: diag code\n",
    "* Clinical categories (CCS) mapping to the first dataset\n",
    "    * diag: diag code\n",
    "    * diag_desc: description of the diagnosis\n",
    "    * ccs_1_desc: general category of that disease\n",
    "    * ccs_2_desc: more detailed description derived from ccs_1_desc\n",
    "    * ccs_3_desc: more detailed description derived from ccs_2_desc \n",
    "* Members' prescription drug data\n",
    "    * member id\n",
    "    * service date\n",
    "    * ndc: drug code\n",
    "    * drug category"
   ]
  },
  {
   "cell_type": "code",
   "execution_count": 376,
   "id": "283e8ebb",
   "metadata": {},
   "outputs": [],
   "source": [
    "### import libraries for data loading and exploration\n",
    "import pandas as pd\n",
    "import numpy as np \n",
    "import matplotlib.pyplot as plt\n",
    "import seaborn as sns\n",
    "import warnings\n",
    "warnings.filterwarnings(\"ignore\")\n",
    "pd.plotting.register_matplotlib_converters()\n",
    "%matplotlib inline"
   ]
  },
  {
   "cell_type": "code",
   "execution_count": 95,
   "id": "c7d6b8f6",
   "metadata": {},
   "outputs": [],
   "source": [
    "### loading three datasets\n",
    "diag_data = pd.read_csv('claim_lines.csv')\n",
    "ccs_data = pd.read_csv('ccs.csv')\n",
    "drug_data = pd.read_csv('prescription_drugs.csv')"
   ]
  },
  {
   "cell_type": "code",
   "execution_count": 96,
   "id": "ce14684f",
   "metadata": {},
   "outputs": [],
   "source": [
    "### define a function to get an initial understanding of the data\n",
    "def summary_data(data):\n",
    "    print('-' * 38+'Head'+'-' * 39)\n",
    "    print(data.head(3))\n",
    "    print('-' * 38+'shape'+'-' * 38)\n",
    "    print(data.shape)\n",
    "    print('-' * 38+'info'+'-' * 38)\n",
    "    print(data.info())\n",
    "    print('-' * 38+'describe'+'-' * 38)\n",
    "    print(data.describe())"
   ]
  },
  {
   "cell_type": "code",
   "execution_count": 278,
   "id": "91a6fde8",
   "metadata": {},
   "outputs": [],
   "source": [
    "### define a function to understand and plot distributions of the data\n",
    "def plot_summary(data, x):\n",
    "    x_min = data[x].min()\n",
    "    x_max = data[x].max()\n",
    "    Q1 = data[x].quantile(0.25)\n",
    "    Q2 = data[x].quantile(0.50)\n",
    "    Q3 = data[x].quantile(0.75)\n",
    "    IQR = Q3 - Q1\n",
    "    total_outlier_num = ((data[x] < (Q1 - 1.5 * IQR)) | (data[x] > (Q3 + 1.5 * IQR))).sum()\n",
    "    print(f'5 Point Summary of {x.capitalize()} Attribute:\\n'\n",
    "          f'{x.capitalize()}(min) : {x_min}\\n'\n",
    "          f'Q1                    : {Q1}\\n'\n",
    "          f'Q2(Median)            : {Q2}\\n'\n",
    "          f'Q3                    : {Q3}\\n'\n",
    "          f'{x.capitalize()}(max) : {x_max}\\n'\n",
    "          f'Total number of outliers in {x} distribution: {total_outlier_num}.')\n",
    "        \n",
    "    fig = plt.figure(figsize=(16, 10))\n",
    "    plt.subplots_adjust(hspace = 0.6)\n",
    "    sns.set_palette('pastel')\n",
    "    \n",
    "    plt.subplot(221)\n",
    "    ax1 = sns.distplot(data[x], color = 'r')\n",
    "    plt.title(f'{x.capitalize()} Density Distribution')\n",
    "    \n",
    "    plt.subplot(222)\n",
    "    ax2 = sns.violinplot(x = data[x], palette = 'Accent', split = True)\n",
    "    plt.title(f'{x.capitalize()} Violinplot')\n",
    "    \n",
    "    plt.subplot(223)\n",
    "    ax2 = sns.boxplot(x=data[x], palette = 'cool', width=0.7, linewidth=0.6)\n",
    "    plt.title(f'{x.capitalize()} Boxplot')\n",
    "    \n",
    "    plt.subplot(224)\n",
    "    ax3 = sns.kdeplot(data[x], cumulative=True)\n",
    "    plt.title(f'{x.capitalize()} Cumulative Density Distribution')\n",
    "    \n",
    "    plt.show()"
   ]
  },
  {
   "cell_type": "markdown",
   "id": "b513728d",
   "metadata": {},
   "source": [
    "## Explore the first dataset - diag_data\n",
    "* Check shape, info, and datatype, na values\n",
    "* Clean 'diag1' column so that it matches with ccs data (start with A-Z with no \".\" in the middle)\n",
    "* Calculate how many times a member gets a diagnosis claim (duplicate counts) -> diag_times\n",
    "* Calculate how many unique diagnosis code that a member has received (duplicate does not count) -> diag_counts\n",
    "* Plot to understand distributions of 'diag_times' and 'diag_counts'\n"
   ]
  },
  {
   "cell_type": "code",
   "execution_count": 416,
   "id": "1d9748d6",
   "metadata": {},
   "outputs": [
    {
     "name": "stdout",
     "output_type": "stream",
     "text": [
      "--------------------------------------Head---------------------------------------\n",
      "   record_id member_id    date_svc   diag1\n",
      "0      57738  M0000001  2015-12-06    N926\n",
      "1      57750  M0000001  2015-12-06  O26842\n",
      "2      65072  M0000001  2015-12-13  O26842\n",
      "--------------------------------------shape--------------------------------------\n",
      "(1919983, 4)\n",
      "--------------------------------------info--------------------------------------\n",
      "<class 'pandas.core.frame.DataFrame'>\n",
      "RangeIndex: 1919983 entries, 0 to 1919982\n",
      "Data columns (total 4 columns):\n",
      " #   Column     Dtype \n",
      "---  ------     ----- \n",
      " 0   record_id  int64 \n",
      " 1   member_id  object\n",
      " 2   date_svc   object\n",
      " 3   diag1      object\n",
      "dtypes: int64(1), object(3)\n",
      "memory usage: 58.6+ MB\n",
      "None\n",
      "--------------------------------------describe--------------------------------------\n",
      "          record_id\n",
      "count  1.919983e+06\n",
      "mean   9.599920e+05\n",
      "std    5.542515e+05\n",
      "min    1.000000e+00\n",
      "25%    4.799965e+05\n",
      "50%    9.599920e+05\n",
      "75%    1.439988e+06\n",
      "max    1.919983e+06\n"
     ]
    }
   ],
   "source": [
    "summary_data(diag_data)\n",
    "### 1920k data entries. member_id, date_svc, diag1 are object type data"
   ]
  },
  {
   "cell_type": "code",
   "execution_count": 98,
   "id": "ec0fb77c",
   "metadata": {},
   "outputs": [
    {
     "data": {
      "text/plain": [
       "record_id     0\n",
       "member_id     0\n",
       "date_svc     24\n",
       "diag1         0\n",
       "dtype: int64"
      ]
     },
     "execution_count": 98,
     "metadata": {},
     "output_type": "execute_result"
    }
   ],
   "source": [
    "### check na values\n",
    "diag_data.isnull().sum()\n",
    "### only 24 na values for date_svc value, this is fine when compared to the data size. \n",
    "### diag1 data matters most here and luckily we do not have any missing value"
   ]
  },
  {
   "cell_type": "code",
   "execution_count": 270,
   "id": "b61ecb4d",
   "metadata": {},
   "outputs": [
    {
     "data": {
      "text/html": [
       "<div>\n",
       "<style scoped>\n",
       "    .dataframe tbody tr th:only-of-type {\n",
       "        vertical-align: middle;\n",
       "    }\n",
       "\n",
       "    .dataframe tbody tr th {\n",
       "        vertical-align: top;\n",
       "    }\n",
       "\n",
       "    .dataframe thead th {\n",
       "        text-align: right;\n",
       "    }\n",
       "</style>\n",
       "<table border=\"1\" class=\"dataframe\">\n",
       "  <thead>\n",
       "    <tr style=\"text-align: right;\">\n",
       "      <th></th>\n",
       "      <th>member_id</th>\n",
       "      <th>diag_times</th>\n",
       "    </tr>\n",
       "  </thead>\n",
       "  <tbody>\n",
       "    <tr>\n",
       "      <th>0</th>\n",
       "      <td>M0000001</td>\n",
       "      <td>15</td>\n",
       "    </tr>\n",
       "    <tr>\n",
       "      <th>1</th>\n",
       "      <td>M0000002</td>\n",
       "      <td>6</td>\n",
       "    </tr>\n",
       "    <tr>\n",
       "      <th>2</th>\n",
       "      <td>M0000003</td>\n",
       "      <td>2</td>\n",
       "    </tr>\n",
       "    <tr>\n",
       "      <th>3</th>\n",
       "      <td>M0000004</td>\n",
       "      <td>2</td>\n",
       "    </tr>\n",
       "    <tr>\n",
       "      <th>4</th>\n",
       "      <td>M0000005</td>\n",
       "      <td>2</td>\n",
       "    </tr>\n",
       "  </tbody>\n",
       "</table>\n",
       "</div>"
      ],
      "text/plain": [
       "  member_id  diag_times\n",
       "0  M0000001          15\n",
       "1  M0000002           6\n",
       "2  M0000003           2\n",
       "3  M0000004           2\n",
       "4  M0000005           2"
      ]
     },
     "execution_count": 270,
     "metadata": {},
     "output_type": "execute_result"
    }
   ],
   "source": [
    "### Calculate how many times a member gets a diagnosis claim (duplicate counts) -> diag_times\n",
    "diag_times_data = diag_data.groupby('member_id').size().reset_index(name='diag_times')\n",
    "diag_times_data.head()"
   ]
  },
  {
   "cell_type": "code",
   "execution_count": 377,
   "id": "d88e90e6",
   "metadata": {},
   "outputs": [
    {
     "data": {
      "text/html": [
       "<div>\n",
       "<style scoped>\n",
       "    .dataframe tbody tr th:only-of-type {\n",
       "        vertical-align: middle;\n",
       "    }\n",
       "\n",
       "    .dataframe tbody tr th {\n",
       "        vertical-align: top;\n",
       "    }\n",
       "\n",
       "    .dataframe thead th {\n",
       "        text-align: right;\n",
       "    }\n",
       "</style>\n",
       "<table border=\"1\" class=\"dataframe\">\n",
       "  <thead>\n",
       "    <tr style=\"text-align: right;\">\n",
       "      <th></th>\n",
       "      <th>member_id</th>\n",
       "      <th>diag_counts</th>\n",
       "    </tr>\n",
       "  </thead>\n",
       "  <tbody>\n",
       "    <tr>\n",
       "      <th>0</th>\n",
       "      <td>M0000001</td>\n",
       "      <td>6</td>\n",
       "    </tr>\n",
       "    <tr>\n",
       "      <th>1</th>\n",
       "      <td>M0000002</td>\n",
       "      <td>6</td>\n",
       "    </tr>\n",
       "    <tr>\n",
       "      <th>2</th>\n",
       "      <td>M0000003</td>\n",
       "      <td>1</td>\n",
       "    </tr>\n",
       "    <tr>\n",
       "      <th>3</th>\n",
       "      <td>M0000004</td>\n",
       "      <td>2</td>\n",
       "    </tr>\n",
       "    <tr>\n",
       "      <th>4</th>\n",
       "      <td>M0000005</td>\n",
       "      <td>2</td>\n",
       "    </tr>\n",
       "  </tbody>\n",
       "</table>\n",
       "</div>"
      ],
      "text/plain": [
       "  member_id  diag_counts\n",
       "0  M0000001            6\n",
       "1  M0000002            6\n",
       "2  M0000003            1\n",
       "3  M0000004            2\n",
       "4  M0000005            2"
      ]
     },
     "execution_count": 377,
     "metadata": {},
     "output_type": "execute_result"
    }
   ],
   "source": [
    "### Calculate how many unique diagnosis code that a member has received (duplicate does not count) -> diag_counts\n",
    "diag_data_clean = diag_data.drop_duplicates(\n",
    "  subset = ['member_id', 'diag1'],\n",
    "  keep = 'first').reset_index(drop = True)\n",
    "\n",
    "diag_count_data = diag_data_clean.groupby('member_id').size().reset_index(name='diag_counts')\n",
    "diag_count_data.head()"
   ]
  },
  {
   "cell_type": "code",
   "execution_count": 378,
   "id": "b8558530",
   "metadata": {},
   "outputs": [],
   "source": [
    "### clean 'diag1' column so that it matches with ccs data\n",
    "diag_data['diag1'] = diag_data.diag1.apply(lambda x: str(x).replace('.',''))\n",
    "\n",
    "import string\n",
    "az_Upper = string.ascii_uppercase\n",
    "list_AZ = []\n",
    "for i in az_Upper:\n",
    "    list_AZ.append(i)\n",
    "\n",
    "### Only include rows that 'diag1' column starts with A-Z\n",
    "diag_data_clean = diag_data_clean.loc[diag_data_clean['diag1'].str[0].isin(list_AZ)]\n",
    "### rename diag1 column to match with ccs dataset\n",
    "diag_data_clean.rename(columns = {'diag1':'diag'}, inplace = True)"
   ]
  },
  {
   "cell_type": "code",
   "execution_count": 275,
   "id": "6ad09f91",
   "metadata": {},
   "outputs": [
    {
     "data": {
      "text/plain": [
       "member_id       0\n",
       "diag_times      0\n",
       "diag_counts    21\n",
       "dtype: int64"
      ]
     },
     "execution_count": 275,
     "metadata": {},
     "output_type": "execute_result"
    }
   ],
   "source": [
    "diag_time_count = diag_times_data.merge(diag_count_data, on='member_id', how='left')\n",
    "diag_time_count.isnull().sum()\n",
    "### there are 21 na values for diag_counts"
   ]
  },
  {
   "cell_type": "code",
   "execution_count": 379,
   "id": "c8c7a9f2",
   "metadata": {},
   "outputs": [
    {
     "data": {
      "text/html": [
       "<div>\n",
       "<style scoped>\n",
       "    .dataframe tbody tr th:only-of-type {\n",
       "        vertical-align: middle;\n",
       "    }\n",
       "\n",
       "    .dataframe tbody tr th {\n",
       "        vertical-align: top;\n",
       "    }\n",
       "\n",
       "    .dataframe thead th {\n",
       "        text-align: right;\n",
       "    }\n",
       "</style>\n",
       "<table border=\"1\" class=\"dataframe\">\n",
       "  <thead>\n",
       "    <tr style=\"text-align: right;\">\n",
       "      <th></th>\n",
       "      <th>member_id</th>\n",
       "      <th>diag_times</th>\n",
       "      <th>diag_counts</th>\n",
       "    </tr>\n",
       "  </thead>\n",
       "  <tbody>\n",
       "    <tr>\n",
       "      <th>0</th>\n",
       "      <td>M0000001</td>\n",
       "      <td>15</td>\n",
       "      <td>6</td>\n",
       "    </tr>\n",
       "    <tr>\n",
       "      <th>1</th>\n",
       "      <td>M0000002</td>\n",
       "      <td>6</td>\n",
       "      <td>6</td>\n",
       "    </tr>\n",
       "    <tr>\n",
       "      <th>2</th>\n",
       "      <td>M0000003</td>\n",
       "      <td>2</td>\n",
       "      <td>1</td>\n",
       "    </tr>\n",
       "    <tr>\n",
       "      <th>3</th>\n",
       "      <td>M0000004</td>\n",
       "      <td>2</td>\n",
       "      <td>2</td>\n",
       "    </tr>\n",
       "    <tr>\n",
       "      <th>4</th>\n",
       "      <td>M0000005</td>\n",
       "      <td>2</td>\n",
       "      <td>2</td>\n",
       "    </tr>\n",
       "  </tbody>\n",
       "</table>\n",
       "</div>"
      ],
      "text/plain": [
       "  member_id  diag_times  diag_counts\n",
       "0  M0000001          15            6\n",
       "1  M0000002           6            6\n",
       "2  M0000003           2            1\n",
       "3  M0000004           2            2\n",
       "4  M0000005           2            2"
      ]
     },
     "execution_count": 379,
     "metadata": {},
     "output_type": "execute_result"
    }
   ],
   "source": [
    "### if the member's diag_counts is na, it means this member is not diagnosed with any problem, we turn it into 0\n",
    "diag_time_count['diag_counts'] = diag_time_count['diag_counts'].fillna(0).astype(int)\n",
    "diag_time_count.head()"
   ]
  },
  {
   "cell_type": "code",
   "execution_count": 380,
   "id": "cccae82d",
   "metadata": {},
   "outputs": [
    {
     "name": "stdout",
     "output_type": "stream",
     "text": [
      "5 Point Summary of Diag_times Attribute:\n",
      "Diag_times(min) : 1\n",
      "Q1                    : 2.0\n",
      "Q2(Median)            : 4.0\n",
      "Q3                    : 8.0\n",
      "Diag_times(max) : 922\n",
      "Total number of outliers in diag_times distribution: 24972.\n"
     ]
    },
    {
     "data": {
      "image/png": "[encoded data removed]",
      "text/plain": [
       "<Figure size 1152x720 with 4 Axes>"
      ]
     },
     "metadata": {
      "needs_background": "light"
     },
     "output_type": "display_data"
    }
   ],
   "source": [
    "### from the charts we can see that the skewness of the data is very large\n",
    "### that is because there are 24972 large outliers affecting the distribution of the data\n",
    "### we will make some adjustment for this distribution later in this case study\n",
    "plot_summary(diag_time_count, 'diag_times')"
   ]
  },
  {
   "cell_type": "code",
   "execution_count": 382,
   "id": "ddba49a2",
   "metadata": {},
   "outputs": [
    {
     "name": "stdout",
     "output_type": "stream",
     "text": [
      "5 Point Summary of Diag_counts Attribute:\n",
      "Diag_counts(min) : 0\n",
      "Q1                    : 1.0\n",
      "Q2(Median)            : 3.0\n",
      "Q3                    : 6.0\n",
      "Diag_counts(max) : 411\n",
      "Total number of outliers in diag_counts distribution: 17424.\n"
     ]
    },
    {
     "data": {
      "image/png": "[encoded data removed]",
      "text/plain": [
       "<Figure size 1152x720 with 4 Axes>"
      ]
     },
     "metadata": {
      "needs_background": "light"
     },
     "output_type": "display_data"
    }
   ],
   "source": [
    "plot_summary(diag_time_count, 'diag_counts')\n",
    "### very similar situation compared to 'diag_times'\n",
    "### 17424 outliers. Maximum is 411, which seems very unusual (diagnosed with 411 different health issues)"
   ]
  },
  {
   "cell_type": "markdown",
   "id": "bfcdb152",
   "metadata": {},
   "source": [
    "## Explore the second dataset - ccs_data\n",
    "* Check shape, info, and datatype, na values\n",
    "* Explore unique ccs_1_desc categories"
   ]
  },
  {
   "cell_type": "code",
   "execution_count": 415,
   "id": "34d4046b",
   "metadata": {},
   "outputs": [
    {
     "name": "stdout",
     "output_type": "stream",
     "text": [
      "--------------------------------------Head---------------------------------------\n",
      "   diag                                          diag_desc  \\\n",
      "0  A000  Cholera due to Vibrio cholerae 01, biovar chol...   \n",
      "1  A001    Cholera due to Vibrio cholerae 01, biovar eltor   \n",
      "2  A009                               Cholera, unspecified   \n",
      "\n",
      "                         ccs_1_desc                   ccs_2_desc  \\\n",
      "0  Diseases of the digestive system  Intestinal infection [135.]   \n",
      "1  Diseases of the digestive system  Intestinal infection [135.]   \n",
      "2  Diseases of the digestive system  Intestinal infection [135.]   \n",
      "\n",
      "             ccs_3_desc  \n",
      "0  Intestinal infection  \n",
      "1  Intestinal infection  \n",
      "2  Intestinal infection  \n",
      "--------------------------------------shape--------------------------------------\n",
      "(72167, 5)\n",
      "--------------------------------------info--------------------------------------\n",
      "<class 'pandas.core.frame.DataFrame'>\n",
      "RangeIndex: 72167 entries, 0 to 72166\n",
      "Data columns (total 5 columns):\n",
      " #   Column      Non-Null Count  Dtype \n",
      "---  ------      --------------  ----- \n",
      " 0   diag        72167 non-null  object\n",
      " 1   diag_desc   72167 non-null  object\n",
      " 2   ccs_1_desc  72167 non-null  object\n",
      " 3   ccs_2_desc  72167 non-null  object\n",
      " 4   ccs_3_desc  72167 non-null  object\n",
      "dtypes: object(5)\n",
      "memory usage: 2.8+ MB\n",
      "None\n",
      "--------------------------------------describe--------------------------------------\n",
      "          diag                                          diag_desc  \\\n",
      "count    72167                                              72167   \n",
      "unique   72167                                              71961   \n",
      "top     M86412  Concussion with loss of consciousness greater ...   \n",
      "freq         1                                                  6   \n",
      "\n",
      "                  ccs_1_desc ccs_2_desc              ccs_3_desc  \n",
      "count                  72167      72167                   72167  \n",
      "unique                    18        136                     283  \n",
      "top     Injury and poisoning  Fractures  Fracture of lower limb  \n",
      "freq                   40432      16924                    6888  \n"
     ]
    }
   ],
   "source": [
    "summary_data(ccs_data)\n",
    "### 72167 entries, all data in ccs_data is object type"
   ]
  },
  {
   "cell_type": "code",
   "execution_count": 106,
   "id": "2f0cd93d",
   "metadata": {},
   "outputs": [
    {
     "data": {
      "text/plain": [
       "diag          0\n",
       "diag_desc     0\n",
       "ccs_1_desc    0\n",
       "ccs_2_desc    0\n",
       "ccs_3_desc    0\n",
       "dtype: int64"
      ]
     },
     "execution_count": 106,
     "metadata": {},
     "output_type": "execute_result"
    }
   ],
   "source": [
    "ccs_data.isnull().sum()\n",
    "### there is no NA values for ccs data"
   ]
  },
  {
   "cell_type": "code",
   "execution_count": 283,
   "id": "94e41c92",
   "metadata": {},
   "outputs": [
    {
     "name": "stdout",
     "output_type": "stream",
     "text": [
      "['Diseases of the digestive system'\n",
      " 'Diseases of the nervous system and sense organs'\n",
      " 'Infectious and parasitic diseases' 'Diseases of the respiratory system'\n",
      " 'Diseases of the musculoskeletal system and connective tissue'\n",
      " 'Diseases of the skin and subcutaneous tissue'\n",
      " 'Certain conditions originating in the perinatal period'\n",
      " 'Complications of pregnancy; childbirth; and the puerperium'\n",
      " 'Diseases of the circulatory system'\n",
      " 'Diseases of the genitourinary system'\n",
      " 'Symptoms; signs; and ill-defined conditions and factors influencing health status'\n",
      " 'Neoplasms' 'Diseases of the blood and blood-forming organs'\n",
      " 'Injury and poisoning'\n",
      " 'Endocrine; nutritional; and metabolic diseases and immunity disorders'\n",
      " 'Congenital anomalies' 'Mental Illness'\n",
      " 'Residual codes; unclassified; all E codes [259. and 260.]']\n",
      "there are 18 unique categories for ccs_1_desc column\n",
      "there are 136 unique categories for ccs_2_desc column\n",
      "there are 283 unique categories for ccs_3_desc column\n"
     ]
    }
   ],
   "source": [
    "### we want to focus on exploring the ccs_1_desc column. we aim to find out how many unique categories do we have here\n",
    "print(ccs_data.ccs_1_desc.unique())\n",
    "### count how many unique categories for each ccs description column\n",
    "for item in ['ccs_1_desc','ccs_2_desc','ccs_3_desc']:\n",
    "    length_unique = len(pd.unique(ccs_data[item]))\n",
    "    print(f'there are {length_unique} unique categories for {item} column')\n",
    "### we can see that ccs_1_desc is the most broad description for a certain type of disease"
   ]
  },
  {
   "cell_type": "markdown",
   "id": "c38eb5b5",
   "metadata": {},
   "source": [
    "## Explore the third dataset - drug_data\n",
    "* Check shape, info, and datatype, na values\n",
    "* Calculate how many times each member has been prescribed -> prescribe_times\n",
    "* Calculate how many different drugs has been prescribed to a member -> drug_counts\n",
    "* Calculate how many different categorues of drugs has been prescribed to a member -> drug_cat_counts\n",
    "* Explore unique drugs categories counts and plot distributions for new created columns"
   ]
  },
  {
   "cell_type": "code",
   "execution_count": 417,
   "id": "1da4d3ee",
   "metadata": {},
   "outputs": [
    {
     "name": "stdout",
     "output_type": "stream",
     "text": [
      "--------------------------------------Head---------------------------------------\n",
      "             record_id member_id    date_svc          ndc  \\\n",
      "0  4115084976453758912  M0023556  2016-05-08  51285040702   \n",
      "1  1750642805638674193  M0087538  2016-12-05  50474080303   \n",
      "2  5543689263541245391  M0049608  2018-01-18      3089421   \n",
      "\n",
      "                              drug_category                   drug_group  \\\n",
      "0                                 Estrogens                    Estrogens   \n",
      "1  Antiparkinson and Related Therapy Agents  Antiparkinson Dopaminergics   \n",
      "2                            Anticoagulants  Direct Factor Xa Inhibitors   \n",
      "\n",
      "                               drug_class  \n",
      "0                               Estrogens  \n",
      "1  Nonergoline Dopamine Receptor Agonists  \n",
      "2             Direct Factor Xa Inhibitors  \n",
      "--------------------------------------shape--------------------------------------\n",
      "(3005934, 7)\n",
      "--------------------------------------info--------------------------------------\n",
      "<class 'pandas.core.frame.DataFrame'>\n",
      "RangeIndex: 3005934 entries, 0 to 3005933\n",
      "Data columns (total 7 columns):\n",
      " #   Column         Dtype \n",
      "---  ------         ----- \n",
      " 0   record_id      int64 \n",
      " 1   member_id      object\n",
      " 2   date_svc       object\n",
      " 3   ndc            int64 \n",
      " 4   drug_category  object\n",
      " 5   drug_group     object\n",
      " 6   drug_class     object\n",
      "dtypes: int64(2), object(5)\n",
      "memory usage: 160.5+ MB\n",
      "None\n",
      "--------------------------------------describe--------------------------------------\n",
      "          record_id           ndc\n",
      "count  3.005934e+06  3.005934e+06\n",
      "mean   4.610828e+18  3.304563e+10\n",
      "std    2.662272e+18  2.914309e+10\n",
      "min    3.322680e+12  2.143301e+06\n",
      "25%    2.306345e+18  4.060485e+08\n",
      "50%    4.609660e+18  4.338602e+10\n",
      "75%    6.916714e+18  6.195807e+10\n",
      "max    9.223370e+18  9.920709e+10\n"
     ]
    }
   ],
   "source": [
    "summary_data(drug_data)\n",
    "### 3005934 entries, 'member_id' and 'drug_category' are object type."
   ]
  },
  {
   "cell_type": "code",
   "execution_count": 384,
   "id": "2491a192",
   "metadata": {},
   "outputs": [
    {
     "name": "stdout",
     "output_type": "stream",
     "text": [
      "92\n"
     ]
    }
   ],
   "source": [
    "print(len(pd.unique(drug_data.drug_category)))\n",
    "## there are 92 unique drug categories"
   ]
  },
  {
   "cell_type": "code",
   "execution_count": 385,
   "id": "5ef141a5",
   "metadata": {},
   "outputs": [],
   "source": [
    "### drugs prescribed to each member\n",
    "member_pres_time = drug_data.groupby('member_id').size().reset_index(name='prescribe_times')\n",
    "a = drug_data.groupby(['member_id','ndc']).size()\n",
    "member_drug_counts_data = a.groupby('member_id').size().reset_index(name='drug_counts')\n",
    "b = drug_data.groupby(['member_id','drug_category']).size()\n",
    "member_drug_cat_counts = b.groupby('member_id').size().reset_index(name='drug_cat_counts')\n",
    "c = member_pres_time.merge(member_drug_counts_data, on='member_id', how='left')\n",
    "member_drug_sum = c.merge(member_drug_cat_counts, on='member_id', how='left')\n"
   ]
  },
  {
   "cell_type": "code",
   "execution_count": 386,
   "id": "5e348148",
   "metadata": {},
   "outputs": [
    {
     "data": {
      "text/html": [
       "<div>\n",
       "<style scoped>\n",
       "    .dataframe tbody tr th:only-of-type {\n",
       "        vertical-align: middle;\n",
       "    }\n",
       "\n",
       "    .dataframe tbody tr th {\n",
       "        vertical-align: top;\n",
       "    }\n",
       "\n",
       "    .dataframe thead th {\n",
       "        text-align: right;\n",
       "    }\n",
       "</style>\n",
       "<table border=\"1\" class=\"dataframe\">\n",
       "  <thead>\n",
       "    <tr style=\"text-align: right;\">\n",
       "      <th></th>\n",
       "      <th>member_id</th>\n",
       "      <th>prescribe_times</th>\n",
       "      <th>drug_counts</th>\n",
       "      <th>drug_cat_counts</th>\n",
       "    </tr>\n",
       "  </thead>\n",
       "  <tbody>\n",
       "    <tr>\n",
       "      <th>0</th>\n",
       "      <td>M0000001</td>\n",
       "      <td>1</td>\n",
       "      <td>1</td>\n",
       "      <td>1</td>\n",
       "    </tr>\n",
       "    <tr>\n",
       "      <th>1</th>\n",
       "      <td>M0000002</td>\n",
       "      <td>4</td>\n",
       "      <td>4</td>\n",
       "      <td>3</td>\n",
       "    </tr>\n",
       "    <tr>\n",
       "      <th>2</th>\n",
       "      <td>M0000003</td>\n",
       "      <td>1</td>\n",
       "      <td>1</td>\n",
       "      <td>1</td>\n",
       "    </tr>\n",
       "    <tr>\n",
       "      <th>3</th>\n",
       "      <td>M0000004</td>\n",
       "      <td>2</td>\n",
       "      <td>1</td>\n",
       "      <td>1</td>\n",
       "    </tr>\n",
       "    <tr>\n",
       "      <th>4</th>\n",
       "      <td>M0000005</td>\n",
       "      <td>3</td>\n",
       "      <td>3</td>\n",
       "      <td>2</td>\n",
       "    </tr>\n",
       "  </tbody>\n",
       "</table>\n",
       "</div>"
      ],
      "text/plain": [
       "  member_id  prescribe_times  drug_counts  drug_cat_counts\n",
       "0  M0000001                1            1                1\n",
       "1  M0000002                4            4                3\n",
       "2  M0000003                1            1                1\n",
       "3  M0000004                2            1                1\n",
       "4  M0000005                3            3                2"
      ]
     },
     "execution_count": 386,
     "metadata": {},
     "output_type": "execute_result"
    }
   ],
   "source": [
    "member_drug_sum.head()"
   ]
  },
  {
   "cell_type": "code",
   "execution_count": 387,
   "id": "a02334bf",
   "metadata": {},
   "outputs": [
    {
     "data": {
      "text/plain": [
       "member_id          0\n",
       "prescribe_times    0\n",
       "drug_counts        0\n",
       "drug_cat_counts    0\n",
       "dtype: int64"
      ]
     },
     "execution_count": 387,
     "metadata": {},
     "output_type": "execute_result"
    }
   ],
   "source": [
    "member_drug_sum.isnull().sum()\n",
    "### no na values for this new created dataset"
   ]
  },
  {
   "cell_type": "code",
   "execution_count": 391,
   "id": "87179483",
   "metadata": {},
   "outputs": [
    {
     "name": "stdout",
     "output_type": "stream",
     "text": [
      "5 Point Summary of Prescribe_times Attribute:\n",
      "Prescribe_times(min) : 1\n",
      "Q1                    : 2.0\n",
      "Q2(Median)            : 5.0\n",
      "Q3                    : 13.0\n",
      "Prescribe_times(max) : 669\n",
      "Total number of outliers in prescribe_times distribution: 25443.\n"
     ]
    },
    {
     "data": {
      "image/png": "[encoded data removed]",
      "text/plain": [
       "<Figure size 1152x720 with 4 Axes>"
      ]
     },
     "metadata": {
      "needs_background": "light"
     },
     "output_type": "display_data"
    }
   ],
   "source": [
    "## plot distribution on how many times member has been prescribed with drugs\n",
    "plot_summary(member_drug_sum,'prescribe_times')\n",
    "### from the charts we can see that the skewness of the data is very large\n",
    "### that is because there are 25443 large outliers affecting the distribution of the data\n",
    "### Q1 Q2 Q3 seem to be in normal ranges, which is good at this moment\n",
    "### we might make some adjustment for this distribution later in this case study if necessary"
   ]
  },
  {
   "cell_type": "code",
   "execution_count": 392,
   "id": "648bcaf6",
   "metadata": {},
   "outputs": [
    {
     "name": "stdout",
     "output_type": "stream",
     "text": [
      "5 Point Summary of Drug_counts Attribute:\n",
      "Drug_counts(min) : 1\n",
      "Q1                    : 2.0\n",
      "Q2(Median)            : 4.0\n",
      "Q3                    : 7.0\n",
      "Drug_counts(max) : 121\n",
      "Total number of outliers in drug_counts distribution: 19219.\n"
     ]
    },
    {
     "data": {
      "image/png": "[encoded data removed]",
      "text/plain": [
       "<Figure size 1152x720 with 4 Axes>"
      ]
     },
     "metadata": {
      "needs_background": "light"
     },
     "output_type": "display_data"
    }
   ],
   "source": [
    "plot_summary(member_drug_sum,'drug_counts')\n",
    "### there are 19219 large outliers affecting the distribution of the data\n",
    "### Q1 Q2 Q3 seem to be in normal ranges\n",
    "### we might make some adjustment for this distribution later in this case study if necessary"
   ]
  },
  {
   "cell_type": "code",
   "execution_count": 396,
   "id": "4175906e",
   "metadata": {},
   "outputs": [
    {
     "name": "stdout",
     "output_type": "stream",
     "text": [
      "5 Point Summary of Drug_cat_counts Attribute:\n",
      "Drug_cat_counts(min) : 1\n",
      "Q1                    : 1.0\n",
      "Q2(Median)            : 3.0\n",
      "Q3                    : 5.0\n",
      "Drug_cat_counts(max) : 35\n",
      "Total number of outliers in drug_cat_counts distribution: 10282.\n"
     ]
    },
    {
     "data": {
      "image/png": "[encoded data removed]",
      "text/plain": [
       "<Figure size 1152x720 with 4 Axes>"
      ]
     },
     "metadata": {
      "needs_background": "light"
     },
     "output_type": "display_data"
    }
   ],
   "source": [
    "plot_summary(member_drug_sum,'drug_cat_counts')\n",
    "### skew to the right with 10282 outliers (smaller amount compared to other variables)\n",
    "### Q1 Q2 Q3 seem to be in normal ranges\n",
    "### drug_cat_counts variable might be useful for our characterizing process"
   ]
  },
  {
   "cell_type": "markdown",
   "id": "7201f689",
   "metadata": {},
   "source": [
    "## Explore two datasets together - merging diag and ccs\n",
    "* merging diag and ccs\n",
    "* calculate count of different categories (ccs_1_desc) has the member got diagnosed\n",
    "* plot distributions for the count"
   ]
  },
  {
   "cell_type": "code",
   "execution_count": 395,
   "id": "32ff1455",
   "metadata": {},
   "outputs": [
    {
     "data": {
      "text/html": [
       "<div>\n",
       "<style scoped>\n",
       "    .dataframe tbody tr th:only-of-type {\n",
       "        vertical-align: middle;\n",
       "    }\n",
       "\n",
       "    .dataframe tbody tr th {\n",
       "        vertical-align: top;\n",
       "    }\n",
       "\n",
       "    .dataframe thead th {\n",
       "        text-align: right;\n",
       "    }\n",
       "</style>\n",
       "<table border=\"1\" class=\"dataframe\">\n",
       "  <thead>\n",
       "    <tr style=\"text-align: right;\">\n",
       "      <th></th>\n",
       "      <th>member_id</th>\n",
       "      <th>diag_times</th>\n",
       "      <th>diag_counts</th>\n",
       "      <th>ccs_cat_count</th>\n",
       "    </tr>\n",
       "  </thead>\n",
       "  <tbody>\n",
       "    <tr>\n",
       "      <th>0</th>\n",
       "      <td>M0000001</td>\n",
       "      <td>15</td>\n",
       "      <td>6</td>\n",
       "      <td>3</td>\n",
       "    </tr>\n",
       "    <tr>\n",
       "      <th>1</th>\n",
       "      <td>M0000002</td>\n",
       "      <td>6</td>\n",
       "      <td>6</td>\n",
       "      <td>4</td>\n",
       "    </tr>\n",
       "    <tr>\n",
       "      <th>2</th>\n",
       "      <td>M0000003</td>\n",
       "      <td>2</td>\n",
       "      <td>1</td>\n",
       "      <td>1</td>\n",
       "    </tr>\n",
       "  </tbody>\n",
       "</table>\n",
       "</div>"
      ],
      "text/plain": [
       "  member_id  diag_times  diag_counts  ccs_cat_count\n",
       "0  M0000001          15            6              3\n",
       "1  M0000002           6            6              4\n",
       "2  M0000003           2            1              1"
      ]
     },
     "execution_count": 395,
     "metadata": {},
     "output_type": "execute_result"
    }
   ],
   "source": [
    "merge_data = diag_data_clean.merge(ccs_data, on='diag', how='left')\n",
    "member_cat_freq = merge_data.groupby(['member_id','ccs_1_desc']).size().reset_index(name='cat_freq')\n",
    "member_cat_count = member_cat_freq.groupby('member_id').size().reset_index(name='ccs_cat_count')\n",
    "member_diag_sum = diag_time_count.merge(member_cat_count, on='member_id', how='left')\n",
    "member_diag_sum['ccs_cat_count'] = member_diag_sum['ccs_cat_count'].fillna(0).astype(int)\n",
    "member_diag_sum.head(3)"
   ]
  },
  {
   "cell_type": "code",
   "execution_count": 398,
   "id": "1981db65",
   "metadata": {},
   "outputs": [
    {
     "name": "stdout",
     "output_type": "stream",
     "text": [
      "5 Point Summary of Ccs_cat_count Attribute:\n",
      "Ccs_cat_count(min) : 0\n",
      "Q1                    : 1.0\n",
      "Q2(Median)            : 2.0\n",
      "Q3                    : 4.0\n",
      "Ccs_cat_count(max) : 18\n",
      "Total number of outliers in ccs_cat_count distribution: 5984.\n"
     ]
    },
    {
     "data": {
      "image/png": "[encoded data removed]",
      "text/plain": [
       "<Figure size 1152x720 with 4 Axes>"
      ]
     },
     "metadata": {
      "needs_background": "light"
     },
     "output_type": "display_data"
    }
   ],
   "source": [
    "plot_summary(member_diag_sum,'ccs_cat_count')\n",
    "### skew to the right with 5984 outliers (very small amount compared to other variables)\n",
    "### Q1 Q2 Q3 seem to be in normal ranges\n",
    "### this ccs_cat_count might be useful for our charectorizing process"
   ]
  },
  {
   "cell_type": "markdown",
   "id": "f5a94eae",
   "metadata": {},
   "source": [
    "## Combining member_diag_sum with member_drug_sum\n",
    "* pick up useful and robust variables for the process of characterizing\n",
    "* calculate the proportion of drug_cat_counts over ccs_cat_count -> drug_diag_cat_proportion\n",
    "* plot the distribution of drug_diag_cat_proportion"
   ]
  },
  {
   "cell_type": "code",
   "execution_count": 400,
   "id": "689580ed",
   "metadata": {},
   "outputs": [
    {
     "data": {
      "text/html": [
       "<div>\n",
       "<style scoped>\n",
       "    .dataframe tbody tr th:only-of-type {\n",
       "        vertical-align: middle;\n",
       "    }\n",
       "\n",
       "    .dataframe tbody tr th {\n",
       "        vertical-align: top;\n",
       "    }\n",
       "\n",
       "    .dataframe thead th {\n",
       "        text-align: right;\n",
       "    }\n",
       "</style>\n",
       "<table border=\"1\" class=\"dataframe\">\n",
       "  <thead>\n",
       "    <tr style=\"text-align: right;\">\n",
       "      <th></th>\n",
       "      <th>member_id</th>\n",
       "      <th>diag_times</th>\n",
       "      <th>diag_counts</th>\n",
       "      <th>ccs_cat_count</th>\n",
       "      <th>prescribe_times</th>\n",
       "      <th>drug_counts</th>\n",
       "      <th>drug_cat_counts</th>\n",
       "    </tr>\n",
       "  </thead>\n",
       "  <tbody>\n",
       "    <tr>\n",
       "      <th>0</th>\n",
       "      <td>M0000001</td>\n",
       "      <td>15</td>\n",
       "      <td>6</td>\n",
       "      <td>3</td>\n",
       "      <td>1</td>\n",
       "      <td>1</td>\n",
       "      <td>1</td>\n",
       "    </tr>\n",
       "    <tr>\n",
       "      <th>1</th>\n",
       "      <td>M0000002</td>\n",
       "      <td>6</td>\n",
       "      <td>6</td>\n",
       "      <td>4</td>\n",
       "      <td>4</td>\n",
       "      <td>4</td>\n",
       "      <td>3</td>\n",
       "    </tr>\n",
       "    <tr>\n",
       "      <th>2</th>\n",
       "      <td>M0000003</td>\n",
       "      <td>2</td>\n",
       "      <td>1</td>\n",
       "      <td>1</td>\n",
       "      <td>1</td>\n",
       "      <td>1</td>\n",
       "      <td>1</td>\n",
       "    </tr>\n",
       "    <tr>\n",
       "      <th>3</th>\n",
       "      <td>M0000004</td>\n",
       "      <td>2</td>\n",
       "      <td>2</td>\n",
       "      <td>2</td>\n",
       "      <td>2</td>\n",
       "      <td>1</td>\n",
       "      <td>1</td>\n",
       "    </tr>\n",
       "    <tr>\n",
       "      <th>4</th>\n",
       "      <td>M0000005</td>\n",
       "      <td>2</td>\n",
       "      <td>2</td>\n",
       "      <td>1</td>\n",
       "      <td>3</td>\n",
       "      <td>3</td>\n",
       "      <td>2</td>\n",
       "    </tr>\n",
       "  </tbody>\n",
       "</table>\n",
       "</div>"
      ],
      "text/plain": [
       "  member_id  diag_times  diag_counts  ccs_cat_count  prescribe_times  \\\n",
       "0  M0000001          15            6              3                1   \n",
       "1  M0000002           6            6              4                4   \n",
       "2  M0000003           2            1              1                1   \n",
       "3  M0000004           2            2              2                2   \n",
       "4  M0000005           2            2              1                3   \n",
       "\n",
       "   drug_counts  drug_cat_counts  \n",
       "0            1                1  \n",
       "1            4                3  \n",
       "2            1                1  \n",
       "3            1                1  \n",
       "4            3                2  "
      ]
     },
     "execution_count": 400,
     "metadata": {},
     "output_type": "execute_result"
    }
   ],
   "source": [
    "member_diag_drug_combined = member_diag_sum.merge(member_drug_sum, on='member_id', how = 'left')\n",
    "for item in ['prescribe_times', 'drug_counts', 'drug_cat_counts']:\n",
    "    member_diag_drug_combined[item] = member_diag_drug_combined[item].fillna(0).astype(int)\n",
    "member_diag_drug_combined.head()"
   ]
  },
  {
   "cell_type": "code",
   "execution_count": 404,
   "id": "75696104",
   "metadata": {},
   "outputs": [
    {
     "data": {
      "text/html": [
       "<div>\n",
       "<style scoped>\n",
       "    .dataframe tbody tr th:only-of-type {\n",
       "        vertical-align: middle;\n",
       "    }\n",
       "\n",
       "    .dataframe tbody tr th {\n",
       "        vertical-align: top;\n",
       "    }\n",
       "\n",
       "    .dataframe thead th {\n",
       "        text-align: right;\n",
       "    }\n",
       "</style>\n",
       "<table border=\"1\" class=\"dataframe\">\n",
       "  <thead>\n",
       "    <tr style=\"text-align: right;\">\n",
       "      <th></th>\n",
       "      <th>member_id</th>\n",
       "      <th>diag_times</th>\n",
       "      <th>diag_counts</th>\n",
       "      <th>ccs_cat_count</th>\n",
       "      <th>prescribe_times</th>\n",
       "      <th>drug_counts</th>\n",
       "      <th>drug_cat_counts</th>\n",
       "      <th>drug_diag_cat_proportion</th>\n",
       "    </tr>\n",
       "  </thead>\n",
       "  <tbody>\n",
       "    <tr>\n",
       "      <th>0</th>\n",
       "      <td>M0000001</td>\n",
       "      <td>15</td>\n",
       "      <td>6</td>\n",
       "      <td>3</td>\n",
       "      <td>1</td>\n",
       "      <td>1</td>\n",
       "      <td>1</td>\n",
       "      <td>0.333333</td>\n",
       "    </tr>\n",
       "    <tr>\n",
       "      <th>1</th>\n",
       "      <td>M0000002</td>\n",
       "      <td>6</td>\n",
       "      <td>6</td>\n",
       "      <td>4</td>\n",
       "      <td>4</td>\n",
       "      <td>4</td>\n",
       "      <td>3</td>\n",
       "      <td>0.750000</td>\n",
       "    </tr>\n",
       "    <tr>\n",
       "      <th>2</th>\n",
       "      <td>M0000003</td>\n",
       "      <td>2</td>\n",
       "      <td>1</td>\n",
       "      <td>1</td>\n",
       "      <td>1</td>\n",
       "      <td>1</td>\n",
       "      <td>1</td>\n",
       "      <td>1.000000</td>\n",
       "    </tr>\n",
       "    <tr>\n",
       "      <th>3</th>\n",
       "      <td>M0000004</td>\n",
       "      <td>2</td>\n",
       "      <td>2</td>\n",
       "      <td>2</td>\n",
       "      <td>2</td>\n",
       "      <td>1</td>\n",
       "      <td>1</td>\n",
       "      <td>0.500000</td>\n",
       "    </tr>\n",
       "    <tr>\n",
       "      <th>4</th>\n",
       "      <td>M0000005</td>\n",
       "      <td>2</td>\n",
       "      <td>2</td>\n",
       "      <td>1</td>\n",
       "      <td>3</td>\n",
       "      <td>3</td>\n",
       "      <td>2</td>\n",
       "      <td>2.000000</td>\n",
       "    </tr>\n",
       "  </tbody>\n",
       "</table>\n",
       "</div>"
      ],
      "text/plain": [
       "  member_id  diag_times  diag_counts  ccs_cat_count  prescribe_times  \\\n",
       "0  M0000001          15            6              3                1   \n",
       "1  M0000002           6            6              4                4   \n",
       "2  M0000003           2            1              1                1   \n",
       "3  M0000004           2            2              2                2   \n",
       "4  M0000005           2            2              1                3   \n",
       "\n",
       "   drug_counts  drug_cat_counts  drug_diag_cat_proportion  \n",
       "0            1                1                  0.333333  \n",
       "1            4                3                  0.750000  \n",
       "2            1                1                  1.000000  \n",
       "3            1                1                  0.500000  \n",
       "4            3                2                  2.000000  "
      ]
     },
     "execution_count": 404,
     "metadata": {},
     "output_type": "execute_result"
    }
   ],
   "source": [
    "### calculate the proportion of drug_cat_counts over ccs_cat_count -> drug_diag_cat_proportion\n",
    "### 'drug_diag_cat_proportion' means the proportion of categories of drug a member gets prescribed over categories of disease a member gets diagnosed\n",
    "member_diag_drug_combined['drug_diag_cat_proportion'] = member_diag_drug_combined['drug_cat_counts']/member_diag_drug_combined['ccs_cat_count']\n",
    "member_diag_drug_combined.head()"
   ]
  },
  {
   "cell_type": "code",
   "execution_count": 407,
   "id": "e5c2e25a",
   "metadata": {},
   "outputs": [
    {
     "data": {
      "text/plain": [
       "member_id                   0\n",
       "diag_times                  0\n",
       "diag_counts                 0\n",
       "ccs_cat_count               0\n",
       "prescribe_times             0\n",
       "drug_counts                 0\n",
       "drug_cat_counts             0\n",
       "drug_diag_cat_proportion    7\n",
       "dtype: int64"
      ]
     },
     "execution_count": 407,
     "metadata": {},
     "output_type": "execute_result"
    }
   ],
   "source": [
    "member_diag_drug_combined.isnull().sum()\n",
    "### only 7 na values found for drug_diag_cat_proportion"
   ]
  },
  {
   "cell_type": "code",
   "execution_count": 403,
   "id": "30a236e9",
   "metadata": {},
   "outputs": [
    {
     "name": "stdout",
     "output_type": "stream",
     "text": [
      "5 Point Summary of Drug_diag_cat_proportion Attribute:\n",
      "Drug_diag_cat_proportion(min) : 0.0\n",
      "Q1                    : 0.3333333333333333\n",
      "Q2(Median)            : 1.0\n",
      "Q3                    : 2.0\n",
      "Drug_diag_cat_proportion(max) : 26.0\n",
      "Total number of outliers in drug_diag_cat_proportion distribution: 7955.\n"
     ]
    },
    {
     "data": {
      "image/png": "[encoded data removed]",
      "text/plain": [
       "<Figure size 1152x720 with 4 Axes>"
      ]
     },
     "metadata": {
      "needs_background": "light"
     },
     "output_type": "display_data"
    }
   ],
   "source": [
    "member_diag_drug_combined_finite = member_diag_drug_combined.loc[member_diag_drug.ccs_cat_count!=0]\n",
    "plot_summary(member_diag_drug_combined_finite,'drug_diag_cat_proportion')\n",
    "### outlier number is largely decreased after we make the proportion of two columns instead of using them seperately\n",
    "### we will use this new variable as an essential feature for characterization"
   ]
  },
  {
   "cell_type": "code",
   "execution_count": 405,
   "id": "97548231",
   "metadata": {},
   "outputs": [
    {
     "data": {
      "text/html": [
       "<div>\n",
       "<style scoped>\n",
       "    .dataframe tbody tr th:only-of-type {\n",
       "        vertical-align: middle;\n",
       "    }\n",
       "\n",
       "    .dataframe tbody tr th {\n",
       "        vertical-align: top;\n",
       "    }\n",
       "\n",
       "    .dataframe thead th {\n",
       "        text-align: right;\n",
       "    }\n",
       "</style>\n",
       "<table border=\"1\" class=\"dataframe\">\n",
       "  <thead>\n",
       "    <tr style=\"text-align: right;\">\n",
       "      <th></th>\n",
       "      <th>member_id</th>\n",
       "      <th>diag_times</th>\n",
       "      <th>diag_counts</th>\n",
       "      <th>ccs_cat_count</th>\n",
       "      <th>prescribe_times</th>\n",
       "      <th>drug_counts</th>\n",
       "      <th>drug_cat_counts</th>\n",
       "      <th>drug_diag_cat_proportion</th>\n",
       "    </tr>\n",
       "  </thead>\n",
       "  <tbody>\n",
       "    <tr>\n",
       "      <th>0</th>\n",
       "      <td>M0000001</td>\n",
       "      <td>15</td>\n",
       "      <td>6</td>\n",
       "      <td>3</td>\n",
       "      <td>1</td>\n",
       "      <td>1</td>\n",
       "      <td>1</td>\n",
       "      <td>0.333333</td>\n",
       "    </tr>\n",
       "    <tr>\n",
       "      <th>1</th>\n",
       "      <td>M0000002</td>\n",
       "      <td>6</td>\n",
       "      <td>6</td>\n",
       "      <td>4</td>\n",
       "      <td>4</td>\n",
       "      <td>4</td>\n",
       "      <td>3</td>\n",
       "      <td>0.750000</td>\n",
       "    </tr>\n",
       "    <tr>\n",
       "      <th>2</th>\n",
       "      <td>M0000003</td>\n",
       "      <td>2</td>\n",
       "      <td>1</td>\n",
       "      <td>1</td>\n",
       "      <td>1</td>\n",
       "      <td>1</td>\n",
       "      <td>1</td>\n",
       "      <td>1.000000</td>\n",
       "    </tr>\n",
       "    <tr>\n",
       "      <th>3</th>\n",
       "      <td>M0000004</td>\n",
       "      <td>2</td>\n",
       "      <td>2</td>\n",
       "      <td>2</td>\n",
       "      <td>2</td>\n",
       "      <td>1</td>\n",
       "      <td>1</td>\n",
       "      <td>0.500000</td>\n",
       "    </tr>\n",
       "    <tr>\n",
       "      <th>4</th>\n",
       "      <td>M0000005</td>\n",
       "      <td>2</td>\n",
       "      <td>2</td>\n",
       "      <td>1</td>\n",
       "      <td>3</td>\n",
       "      <td>3</td>\n",
       "      <td>2</td>\n",
       "      <td>2.000000</td>\n",
       "    </tr>\n",
       "  </tbody>\n",
       "</table>\n",
       "</div>"
      ],
      "text/plain": [
       "  member_id  diag_times  diag_counts  ccs_cat_count  prescribe_times  \\\n",
       "0  M0000001          15            6              3                1   \n",
       "1  M0000002           6            6              4                4   \n",
       "2  M0000003           2            1              1                1   \n",
       "3  M0000004           2            2              2                2   \n",
       "4  M0000005           2            2              1                3   \n",
       "\n",
       "   drug_counts  drug_cat_counts  drug_diag_cat_proportion  \n",
       "0            1                1                  0.333333  \n",
       "1            4                3                  0.750000  \n",
       "2            1                1                  1.000000  \n",
       "3            1                1                  0.500000  \n",
       "4            3                2                  2.000000  "
      ]
     },
     "execution_count": 405,
     "metadata": {},
     "output_type": "execute_result"
    }
   ],
   "source": [
    "### make a copy of the combined data and start characterizing\n",
    "member_diag_drug_cp = member_diag_drug_combined.copy()\n",
    "### fill na with 0\n",
    "member_diag_drug_cp['drug_diag_cat_proportion'] = member_diag_drug_cp['drug_diag_cat_proportion'].fillna(0)\n",
    "member_diag_drug_cp.head()"
   ]
  },
  {
   "cell_type": "markdown",
   "id": "e6c119c7",
   "metadata": {},
   "source": [
    "## Start Characterizing\n",
    "* Rule 1: any member who has a drug_diag_cat_proportion value that is considered outlier will be categorized as 'Unusual'. Left boundary of outlier is smaller than 0, which is not possible for proportion value. So, we only consider right boundary (Q3+1.5IQR)\n",
    "    \n",
    "* Rule 2: any member whose claim is not assigned with ccs category (ccs_cat_count = 0) will be categorized as 'Unusual'\n",
    "* Rule 3: any member who has a drug_diag_cat_proportion value that is larger than 0.5 but smaller than outlier limit value will be categorized as 'Enough Care'\n",
    "* Rule 4: any member who has a drug_diag_cat_proportion value that is between 0 and 0.5 will be 'Not Enough Care'"
   ]
  },
  {
   "cell_type": "markdown",
   "id": "f1c9d7fd",
   "metadata": {},
   "source": [
    "## Explanation\n",
    "* when drug_diag_cat_proportion value is extremely high, it means that the drug_cat_count outcompetes ccs_cat_count. This means a member is prescribed with overloaded amount of kinds of drugs given the issues he/she has been diagnosed. This might be normal in some case (a member with cancer might be prescribed 10 categories of drugs). However, we still want to categorize member as 'Unusual' first. Further investigation can be brought up to make adjustment if necessary\n",
    "\n",
    "* when drug_diag_cat_proportion value is low (like under 50%), it means that this member diagnosed with certain categories of disease but he/she only prescribed with limit categories of prescriptions, which is usually not enough.\n",
    "\n",
    "* when drug_diag_cat_proportion value is 0, it means drug_cat_count is 0 and it means that member is diagnosed with some issues but has not been prescribed with any drugs. We categorize this type of member as 'Not Enough Care'. \n",
    "\n",
    "* when drug_diag_cat_proportion value is lying between 0.5 and 4.5, we label this member as 'Enough Care' at the moment. We might later adjust the boundary values slightly to better train/fit the model if necessary. "
   ]
  },
  {
   "cell_type": "code",
   "execution_count": 408,
   "id": "3a451160",
   "metadata": {},
   "outputs": [
    {
     "data": {
      "text/html": [
       "<div>\n",
       "<style scoped>\n",
       "    .dataframe tbody tr th:only-of-type {\n",
       "        vertical-align: middle;\n",
       "    }\n",
       "\n",
       "    .dataframe tbody tr th {\n",
       "        vertical-align: top;\n",
       "    }\n",
       "\n",
       "    .dataframe thead th {\n",
       "        text-align: right;\n",
       "    }\n",
       "</style>\n",
       "<table border=\"1\" class=\"dataframe\">\n",
       "  <thead>\n",
       "    <tr style=\"text-align: right;\">\n",
       "      <th></th>\n",
       "      <th>member_id</th>\n",
       "      <th>diag_times</th>\n",
       "      <th>diag_counts</th>\n",
       "      <th>ccs_cat_count</th>\n",
       "      <th>prescribe_times</th>\n",
       "      <th>drug_counts</th>\n",
       "      <th>drug_cat_counts</th>\n",
       "      <th>drug_diag_cat_proportion</th>\n",
       "      <th>Health_Status</th>\n",
       "    </tr>\n",
       "  </thead>\n",
       "  <tbody>\n",
       "    <tr>\n",
       "      <th>0</th>\n",
       "      <td>M0000001</td>\n",
       "      <td>15</td>\n",
       "      <td>6</td>\n",
       "      <td>3</td>\n",
       "      <td>1</td>\n",
       "      <td>1</td>\n",
       "      <td>1</td>\n",
       "      <td>0.333333</td>\n",
       "      <td>Not Enough Care</td>\n",
       "    </tr>\n",
       "    <tr>\n",
       "      <th>1</th>\n",
       "      <td>M0000002</td>\n",
       "      <td>6</td>\n",
       "      <td>6</td>\n",
       "      <td>4</td>\n",
       "      <td>4</td>\n",
       "      <td>4</td>\n",
       "      <td>3</td>\n",
       "      <td>0.750000</td>\n",
       "      <td>Enough Care</td>\n",
       "    </tr>\n",
       "    <tr>\n",
       "      <th>2</th>\n",
       "      <td>M0000003</td>\n",
       "      <td>2</td>\n",
       "      <td>1</td>\n",
       "      <td>1</td>\n",
       "      <td>1</td>\n",
       "      <td>1</td>\n",
       "      <td>1</td>\n",
       "      <td>1.000000</td>\n",
       "      <td>Enough Care</td>\n",
       "    </tr>\n",
       "    <tr>\n",
       "      <th>3</th>\n",
       "      <td>M0000004</td>\n",
       "      <td>2</td>\n",
       "      <td>2</td>\n",
       "      <td>2</td>\n",
       "      <td>2</td>\n",
       "      <td>1</td>\n",
       "      <td>1</td>\n",
       "      <td>0.500000</td>\n",
       "      <td>Enough Care</td>\n",
       "    </tr>\n",
       "    <tr>\n",
       "      <th>4</th>\n",
       "      <td>M0000005</td>\n",
       "      <td>2</td>\n",
       "      <td>2</td>\n",
       "      <td>1</td>\n",
       "      <td>3</td>\n",
       "      <td>3</td>\n",
       "      <td>2</td>\n",
       "      <td>2.000000</td>\n",
       "      <td>Enough Care</td>\n",
       "    </tr>\n",
       "  </tbody>\n",
       "</table>\n",
       "</div>"
      ],
      "text/plain": [
       "  member_id  diag_times  diag_counts  ccs_cat_count  prescribe_times  \\\n",
       "0  M0000001          15            6              3                1   \n",
       "1  M0000002           6            6              4                4   \n",
       "2  M0000003           2            1              1                1   \n",
       "3  M0000004           2            2              2                2   \n",
       "4  M0000005           2            2              1                3   \n",
       "\n",
       "   drug_counts  drug_cat_counts  drug_diag_cat_proportion    Health_Status  \n",
       "0            1                1                  0.333333  Not Enough Care  \n",
       "1            4                3                  0.750000      Enough Care  \n",
       "2            1                1                  1.000000      Enough Care  \n",
       "3            1                1                  0.500000      Enough Care  \n",
       "4            3                2                  2.000000      Enough Care  "
      ]
     },
     "execution_count": 408,
     "metadata": {},
     "output_type": "execute_result"
    }
   ],
   "source": [
    "### design conditions to create 'Health_Status' variable\n",
    "proportion_q1 = member_diag_drug_cp['drug_diag_cat_proportion'].quantile(0.25)\n",
    "proportion_q3 = member_diag_drug_cp['drug_diag_cat_proportion'].quantile(0.75)\n",
    "proportion_IQR = proportion_q3 - proportion_q1\n",
    "outlier_maxrange = proportion_q3 + 1.5*proportion_IQR\n",
    "\n",
    "### when the proportion is inf, it means ccs_cat_count = 0\n",
    "conditions = [\n",
    "    ((member_diag_drug_cp['drug_diag_cat_proportion']>=outlier_maxrange))|(member_diag_drug_cp['drug_diag_cat_proportion']=='inf'),\n",
    "    ((member_diag_drug_cp['drug_diag_cat_proportion']<outlier_maxrange)) &(member_diag_drug_cp['drug_diag_cat_proportion']>=0.5),\n",
    "    (member_diag_drug_cp['drug_diag_cat_proportion']<0.5)\n",
    "    ]\n",
    "values = ['Unusual', 'Enough Care', 'Not Enough Care']\n",
    "member_diag_drug_cp['Health_Status'] = np.select(conditions, values)\n",
    "\n",
    "member_diag_drug_cp.head()"
   ]
  },
  {
   "cell_type": "code",
   "execution_count": 409,
   "id": "a708904c",
   "metadata": {},
   "outputs": [
    {
     "data": {
      "text/plain": [
       "Enough Care        171096\n",
       "Not Enough Care     65467\n",
       "Unusual              8603\n",
       "Name: Health_Status, dtype: int64"
      ]
     },
     "execution_count": 409,
     "metadata": {},
     "output_type": "execute_result"
    }
   ],
   "source": [
    "member_diag_drug_cp['Health_Status'].value_counts()"
   ]
  },
  {
   "cell_type": "markdown",
   "id": "ef96fafa",
   "metadata": {},
   "source": [
    "## Building predicting model given only drug data\n",
    "* logistic regression model\n",
    "* decision tree model"
   ]
  },
  {
   "cell_type": "code",
   "execution_count": 414,
   "id": "77c58c12",
   "metadata": {},
   "outputs": [
    {
     "data": {
      "text/html": [
       "<div>\n",
       "<style scoped>\n",
       "    .dataframe tbody tr th:only-of-type {\n",
       "        vertical-align: middle;\n",
       "    }\n",
       "\n",
       "    .dataframe tbody tr th {\n",
       "        vertical-align: top;\n",
       "    }\n",
       "\n",
       "    .dataframe thead th {\n",
       "        text-align: right;\n",
       "    }\n",
       "</style>\n",
       "<table border=\"1\" class=\"dataframe\">\n",
       "  <thead>\n",
       "    <tr style=\"text-align: right;\">\n",
       "      <th></th>\n",
       "      <th>prescribe_times</th>\n",
       "      <th>drug_counts</th>\n",
       "      <th>drug_cat_counts</th>\n",
       "      <th>Health_Status</th>\n",
       "    </tr>\n",
       "  </thead>\n",
       "  <tbody>\n",
       "    <tr>\n",
       "      <th>0</th>\n",
       "      <td>1</td>\n",
       "      <td>1</td>\n",
       "      <td>1</td>\n",
       "      <td>Not Enough Care</td>\n",
       "    </tr>\n",
       "    <tr>\n",
       "      <th>1</th>\n",
       "      <td>4</td>\n",
       "      <td>4</td>\n",
       "      <td>3</td>\n",
       "      <td>Enough Care</td>\n",
       "    </tr>\n",
       "    <tr>\n",
       "      <th>2</th>\n",
       "      <td>1</td>\n",
       "      <td>1</td>\n",
       "      <td>1</td>\n",
       "      <td>Enough Care</td>\n",
       "    </tr>\n",
       "    <tr>\n",
       "      <th>3</th>\n",
       "      <td>2</td>\n",
       "      <td>1</td>\n",
       "      <td>1</td>\n",
       "      <td>Enough Care</td>\n",
       "    </tr>\n",
       "    <tr>\n",
       "      <th>4</th>\n",
       "      <td>3</td>\n",
       "      <td>3</td>\n",
       "      <td>2</td>\n",
       "      <td>Enough Care</td>\n",
       "    </tr>\n",
       "  </tbody>\n",
       "</table>\n",
       "</div>"
      ],
      "text/plain": [
       "   prescribe_times  drug_counts  drug_cat_counts    Health_Status\n",
       "0                1            1                1  Not Enough Care\n",
       "1                4            4                3      Enough Care\n",
       "2                1            1                1      Enough Care\n",
       "3                2            1                1      Enough Care\n",
       "4                3            3                2      Enough Care"
      ]
     },
     "execution_count": 414,
     "metadata": {},
     "output_type": "execute_result"
    }
   ],
   "source": [
    "### only keep necessary features when splitting and training data \n",
    "### - here we keep 'prescribe_times' ,'drug_counts', 'drug_cat_counts' since they can be generated by drug data only and they can represent a member's drug usage\n",
    "### turn Health status columns as category type\n",
    "member_drug_only = member_diag_drug_cp.drop(['member_id','diag_times','diag_counts','ccs_cat_count','drug_diag_cat_proportion'], axis=1)\n",
    "member_drug_only.Health_Status = pd.Categorical(member_drug_only.Health_Status)\n",
    "member_drug_only.head()"
   ]
  },
  {
   "cell_type": "code",
   "execution_count": 367,
   "id": "9c35cd3d",
   "metadata": {},
   "outputs": [],
   "source": [
    "## Start training the data with drug only data\n",
    "## Since the 'Health Status' is not fully balanced (enough > not enough > unusual), we will use StratifiedShuffleSplit method to split the data\n",
    "from sklearn.model_selection import train_test_split,StratifiedShuffleSplit\n",
    "from sklearn.linear_model import LogisticRegression\n",
    "\n",
    "random_state = 42\n",
    "split = StratifiedShuffleSplit(n_splits=10, test_size=0.2, random_state=random_state)\n",
    "for train_index, test_index in split.split(member_drug_only, member_drug_only[\"Health_Status\"]):\n",
    "    strat_train_set = member_drug_only.loc[train_index]\n",
    "    strat_test_set = member_drug_only.loc[test_index]\n",
    "\n",
    "X_train_strat = strat_train_set.drop('Health_Status', axis = 1)\n",
    "y_train_strat = strat_train_set.Health_Status\n",
    "X_test_strat = strat_test_set.drop('Health_Status', axis = 1)\n",
    "y_test_strat = strat_test_set.Health_Status"
   ]
  },
  {
   "cell_type": "code",
   "execution_count": 371,
   "id": "435d5ad9",
   "metadata": {},
   "outputs": [
    {
     "data": {
      "text/plain": [
       "0.902638985193947"
      ]
     },
     "execution_count": 371,
     "metadata": {},
     "output_type": "execute_result"
    }
   ],
   "source": [
    "## using logistic regression model\n",
    "lr = LogisticRegression()\n",
    "lr.fit(X_train_strat, y_train_strat)\n",
    "lr.score(X_test_strat,y_test_strat)"
   ]
  },
  {
   "cell_type": "code",
   "execution_count": 372,
   "id": "fe9f1f1c",
   "metadata": {},
   "outputs": [
    {
     "name": "stdout",
     "output_type": "stream",
     "text": [
      "[0.90251612 0.90221021 0.90404324 0.90243716 0.90276857]\n",
      "0.9027950607946952\n"
     ]
    }
   ],
   "source": [
    "## using cross validation to calculate mean score for the model\n",
    "cv = cross_val_score(lr,X_train_strat,y_train_strat,cv=5)\n",
    "print(cv)\n",
    "print(cv.mean())"
   ]
  },
  {
   "cell_type": "code",
   "execution_count": 412,
   "id": "60510690",
   "metadata": {},
   "outputs": [
    {
     "data": {
      "text/plain": [
       "0.9005995839621487"
      ]
     },
     "execution_count": 412,
     "metadata": {},
     "output_type": "execute_result"
    }
   ],
   "source": [
    "### using decision tree classifier\n",
    "from sklearn import tree\n",
    "dt = tree.DecisionTreeClassifier()\n",
    "dt.fit(X_train_strat, y_train_strat)\n",
    "dt.score(X_test_strat,y_test_strat)"
   ]
  },
  {
   "cell_type": "code",
   "execution_count": 413,
   "id": "3290378a",
   "metadata": {},
   "outputs": [
    {
     "name": "stdout",
     "output_type": "stream",
     "text": [
      "[0.90177684 0.89917659 0.90210575 0.90006628 0.90088207]\n",
      "0.900801504341891\n"
     ]
    }
   ],
   "source": [
    "## using cross validation to calculate mean score for the model\n",
    "cv = cross_val_score(dt,X_train_strat,y_train_strat,cv=5)\n",
    "print(cv)\n",
    "print(cv.mean())"
   ]
  },
  {
   "cell_type": "markdown",
   "id": "bbcbee14",
   "metadata": {},
   "source": [
    "## What have been achieved in this case study\n",
    "* Understood diag, ccs, drug datasets information, statistics, distributions\n",
    "* Defined categorizing methodology for members\n",
    "    * Enough Care\n",
    "    * Not Enough Care\n",
    "    * Unsual\n",
    "* Made simple predicting models based on the Health Status column and drug data columns\n",
    "    * Logistic Regression Model (score **0.9027**)\n",
    "    * Decision Tree Model (score **0.9008**)"
   ]
  },
  {
   "cell_type": "markdown",
   "id": "68dbd72a",
   "metadata": {},
   "source": [
    "## Next steps after this study"
   ]
  },
  {
   "cell_type": "markdown",
   "id": "fe997543",
   "metadata": {},
   "source": [
    "* If given more time, we want to further slightly adjust the characterizing rules to make more defined categories\n",
    "* Further defining unusual patterns for a member (some of the unusual patterns can actually be defined as 'enough care' or even 'Not enough care'- cancer case as we have discussed)\n",
    "* Adding time series analytics (can a member turn from not enough to enough over time? Or the other way around - not good for business if happened)\n",
    "* Further tuning predicting models to make even better predictions\n",
    "* Try other advanced classifier to evaluate the predicting model\n",
    "* We also want to focus on understanding whether a member is treated with the effective medication on the health issues - diag_code and ndc code matching with scores"
   ]
  }
 ],
 "metadata": {
  "kernelspec": {
   "display_name": "Python 3",
   "language": "python",
   "name": "python3"
  },
  "language_info": {
   "codemirror_mode": {
    "name": "ipython",
    "version": 3
   },
   "file_extension": ".py",
   "mimetype": "text/x-python",
   "name": "python",
   "nbconvert_exporter": "python",
   "pygments_lexer": "ipython3",
   "version": "3.8.10"
  }
 },
 "nbformat": 4,
 "nbformat_minor": 5
}
