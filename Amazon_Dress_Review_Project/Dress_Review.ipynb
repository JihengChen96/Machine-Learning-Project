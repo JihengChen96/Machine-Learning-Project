{
 "cells": [
  {
   "cell_type": "code",
   "execution_count": 29,
   "id": "a4d213dc",
   "metadata": {},
   "outputs": [],
   "source": [
    "import pandas as pd\n",
    "import numpy as np\n",
    "import seaborn as sns\n",
    "import matplotlib.pyplot as plt"
   ]
  },
  {
   "cell_type": "code",
   "execution_count": 2,
   "id": "d3eba7e2",
   "metadata": {},
   "outputs": [],
   "source": [
    "df = pd.read_csv('dress_review.csv')"
   ]
  },
  {
   "cell_type": "code",
   "execution_count": 7,
   "id": "619b809d",
   "metadata": {},
   "outputs": [
    {
     "data": {
      "text/plain": [
       "(23486, 10)"
      ]
     },
     "execution_count": 7,
     "metadata": {},
     "output_type": "execute_result"
    }
   ],
   "source": [
    "df.shape"
   ]
  },
  {
   "cell_type": "code",
   "execution_count": 8,
   "id": "89b2416f",
   "metadata": {},
   "outputs": [
    {
     "data": {
      "text/html": [
       "<div>\n",
       "<style scoped>\n",
       "    .dataframe tbody tr th:only-of-type {\n",
       "        vertical-align: middle;\n",
       "    }\n",
       "\n",
       "    .dataframe tbody tr th {\n",
       "        vertical-align: top;\n",
       "    }\n",
       "\n",
       "    .dataframe thead th {\n",
       "        text-align: right;\n",
       "    }\n",
       "</style>\n",
       "<table border=\"1\" class=\"dataframe\">\n",
       "  <thead>\n",
       "    <tr style=\"text-align: right;\">\n",
       "      <th></th>\n",
       "      <th>age</th>\n",
       "      <th>clothing_id</th>\n",
       "      <th>alike_feedback_count</th>\n",
       "      <th>rating</th>\n",
       "      <th>recommend_index</th>\n",
       "    </tr>\n",
       "  </thead>\n",
       "  <tbody>\n",
       "    <tr>\n",
       "      <th>count</th>\n",
       "      <td>23486.000000</td>\n",
       "      <td>23486.000000</td>\n",
       "      <td>23486.000000</td>\n",
       "      <td>23486.000000</td>\n",
       "      <td>23486.000000</td>\n",
       "    </tr>\n",
       "    <tr>\n",
       "      <th>mean</th>\n",
       "      <td>43.198544</td>\n",
       "      <td>918.118709</td>\n",
       "      <td>2.535936</td>\n",
       "      <td>4.196032</td>\n",
       "      <td>0.822362</td>\n",
       "    </tr>\n",
       "    <tr>\n",
       "      <th>std</th>\n",
       "      <td>12.279544</td>\n",
       "      <td>203.298980</td>\n",
       "      <td>5.702202</td>\n",
       "      <td>1.110031</td>\n",
       "      <td>0.382216</td>\n",
       "    </tr>\n",
       "    <tr>\n",
       "      <th>min</th>\n",
       "      <td>18.000000</td>\n",
       "      <td>0.000000</td>\n",
       "      <td>0.000000</td>\n",
       "      <td>1.000000</td>\n",
       "      <td>0.000000</td>\n",
       "    </tr>\n",
       "    <tr>\n",
       "      <th>25%</th>\n",
       "      <td>34.000000</td>\n",
       "      <td>861.000000</td>\n",
       "      <td>0.000000</td>\n",
       "      <td>4.000000</td>\n",
       "      <td>1.000000</td>\n",
       "    </tr>\n",
       "    <tr>\n",
       "      <th>50%</th>\n",
       "      <td>41.000000</td>\n",
       "      <td>936.000000</td>\n",
       "      <td>1.000000</td>\n",
       "      <td>5.000000</td>\n",
       "      <td>1.000000</td>\n",
       "    </tr>\n",
       "    <tr>\n",
       "      <th>75%</th>\n",
       "      <td>52.000000</td>\n",
       "      <td>1078.000000</td>\n",
       "      <td>3.000000</td>\n",
       "      <td>5.000000</td>\n",
       "      <td>1.000000</td>\n",
       "    </tr>\n",
       "    <tr>\n",
       "      <th>max</th>\n",
       "      <td>99.000000</td>\n",
       "      <td>1205.000000</td>\n",
       "      <td>122.000000</td>\n",
       "      <td>5.000000</td>\n",
       "      <td>1.000000</td>\n",
       "    </tr>\n",
       "  </tbody>\n",
       "</table>\n",
       "</div>"
      ],
      "text/plain": [
       "                age   clothing_id  alike_feedback_count        rating  \\\n",
       "count  23486.000000  23486.000000          23486.000000  23486.000000   \n",
       "mean      43.198544    918.118709              2.535936      4.196032   \n",
       "std       12.279544    203.298980              5.702202      1.110031   \n",
       "min       18.000000      0.000000              0.000000      1.000000   \n",
       "25%       34.000000    861.000000              0.000000      4.000000   \n",
       "50%       41.000000    936.000000              1.000000      5.000000   \n",
       "75%       52.000000   1078.000000              3.000000      5.000000   \n",
       "max       99.000000   1205.000000            122.000000      5.000000   \n",
       "\n",
       "       recommend_index   \n",
       "count      23486.000000  \n",
       "mean           0.822362  \n",
       "std            0.382216  \n",
       "min            0.000000  \n",
       "25%            1.000000  \n",
       "50%            1.000000  \n",
       "75%            1.000000  \n",
       "max            1.000000  "
      ]
     },
     "execution_count": 8,
     "metadata": {},
     "output_type": "execute_result"
    }
   ],
   "source": [
    "df.describe()"
   ]
  },
  {
   "cell_type": "code",
   "execution_count": 14,
   "id": "320c4702",
   "metadata": {},
   "outputs": [
    {
     "data": {
      "text/plain": [
       "age                        0\n",
       "division_name             14\n",
       "department_name           14\n",
       "class_name                14\n",
       "clothing_id                0\n",
       "title                   3810\n",
       "review_text              845\n",
       "alike_feedback_count       0\n",
       "rating                     0\n",
       "recommend_index            0\n",
       "dtype: int64"
      ]
     },
     "execution_count": 14,
     "metadata": {},
     "output_type": "execute_result"
    }
   ],
   "source": [
    "df.isna().sum()"
   ]
  },
  {
   "cell_type": "code",
   "execution_count": 13,
   "id": "64e19d5a",
   "metadata": {},
   "outputs": [
    {
     "data": {
      "text/plain": [
       "4.176542853013442"
      ]
     },
     "execution_count": 13,
     "metadata": {},
     "output_type": "execute_result"
    }
   ],
   "source": [
    "df.loc[df['age']<45,'rating'].mean()"
   ]
  },
  {
   "cell_type": "code",
   "execution_count": 18,
   "id": "80803a7f",
   "metadata": {},
   "outputs": [],
   "source": [
    "cat = list(df.select_dtypes(include = 'object').columns)\n",
    "cat.remove('title')\n",
    "cat.remove('review_text')"
   ]
  },
  {
   "cell_type": "code",
   "execution_count": 36,
   "id": "a11b401b",
   "metadata": {},
   "outputs": [],
   "source": [
    "cat_2 = list(['division_name','rating'])"
   ]
  },
  {
   "cell_type": "code",
   "execution_count": 38,
   "id": "4b2dc956",
   "metadata": {},
   "outputs": [],
   "source": [
    "df_div_rat = df[cat_2]"
   ]
  },
  {
   "cell_type": "code",
   "execution_count": 44,
   "id": "4dfc8e35",
   "metadata": {},
   "outputs": [],
   "source": [
    "df_3 = df_div_rat[df_div_rat['division_name'] == 'General']"
   ]
  },
  {
   "cell_type": "code",
   "execution_count": 45,
   "id": "faf0f237",
   "metadata": {},
   "outputs": [
    {
     "data": {
      "text/plain": [
       "<AxesSubplot:xlabel='rating', ylabel='count'>"
      ]
     },
     "execution_count": 45,
     "metadata": {},
     "output_type": "execute_result"
    },
    {
     "data": {
      "image/png": "[encoded data removed]",
      "text/plain": [
       "<Figure size 432x288 with 1 Axes>"
      ]
     },
     "metadata": {
      "needs_background": "light"
     },
     "output_type": "display_data"
    }
   ],
   "source": [
    "sns.countplot(x = df_3['rating'])"
   ]
  },
  {
   "cell_type": "code",
   "execution_count": null,
   "id": "30745cf7",
   "metadata": {},
   "outputs": [],
   "source": []
  },
  {
   "cell_type": "code",
   "execution_count": 24,
   "id": "885cb355",
   "metadata": {},
   "outputs": [
    {
     "data": {
      "text/plain": [
       "<AxesSubplot:xlabel='division_name', ylabel='count'>"
      ]
     },
     "execution_count": 24,
     "metadata": {},
     "output_type": "execute_result"
    },
    {
     "data": {
      "image/png": "[encoded data removed]",
      "text/plain": [
       "<Figure size 432x288 with 1 Axes>"
      ]
     },
     "metadata": {
      "needs_background": "light"
     },
     "output_type": "display_data"
    }
   ],
   "source": [
    "sns.countplot(x = df['division_name'])"
   ]
  },
  {
   "cell_type": "code",
   "execution_count": 31,
   "id": "75fb35bb",
   "metadata": {},
   "outputs": [
    {
     "data": {
      "image/png": "[encoded data removed]",
      "text/plain": [
       "<Figure size 432x288 with 3 Axes>"
      ]
     },
     "metadata": {
      "needs_background": "light"
     },
     "output_type": "display_data"
    }
   ],
   "source": [
    "cat = list(df.select_dtypes(include='object').columns)\n",
    "cat.remove('title');\n",
    "cat.remove('review_text')\n",
    "for i, feat in enumerate(df[cat]):\n",
    "    plt.subplot(2,2,i+1);\n",
    "    if feat == 'class_name': sns.countplot(y=df[feat]);\n",
    "    else: sns.countplot(x=df[feat]);\n",
    "    plt.title(f'COUNT OF {feat.upper()}')\n"
   ]
  }
 ],
 "metadata": {
  "kernelspec": {
   "display_name": "Python 3",
   "language": "python",
   "name": "python3"
  },
  "language_info": {
   "codemirror_mode": {
    "name": "ipython",
    "version": 3
   },
   "file_extension": ".py",
   "mimetype": "text/x-python",
   "name": "python",
   "nbconvert_exporter": "python",
   "pygments_lexer": "ipython3",
   "version": "3.8.10"
  }
 },
 "nbformat": 4,
 "nbformat_minor": 5
}
